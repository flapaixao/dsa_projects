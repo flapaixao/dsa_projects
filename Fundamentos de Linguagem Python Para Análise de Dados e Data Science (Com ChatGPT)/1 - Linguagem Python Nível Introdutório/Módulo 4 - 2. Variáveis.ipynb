{
 "cells": [
  {
   "cell_type": "markdown",
   "id": "f34a6933",
   "metadata": {},
   "source": [
    "**Variáveis e Operadores em Python**"
   ]
  },
  {
   "cell_type": "markdown",
   "id": "10763b06",
   "metadata": {},
   "source": [
    "*# Atribuindo o valor 1 à variável var_teste*"
   ]
  },
  {
   "cell_type": "code",
   "execution_count": 2,
   "id": "24c2a6a7",
   "metadata": {},
   "outputs": [],
   "source": [
    "var_teste = 1"
   ]
  },
  {
   "cell_type": "markdown",
   "id": "9aea9d7d",
   "metadata": {},
   "source": [
    "Ao criar uma variável o interpretador da linguagem python cria uma área na memória do seu computador, e essa área se chama “var_teste” e dentro dessa área tem um valor “1”. Ou seja, é uma áre de memória aonde vai ficar um determinado valor para que você possa manipular o programa."
   ]
  },
  {
   "cell_type": "markdown",
   "id": "7fe7d130",
   "metadata": {},
   "source": [
    "*# Imprimindo o valor variável*"
   ]
  },
  {
   "cell_type": "code",
   "execution_count": 3,
   "id": "8ca13803",
   "metadata": {},
   "outputs": [
    {
     "data": {
      "text/plain": [
       "1"
      ]
     },
     "execution_count": 3,
     "metadata": {},
     "output_type": "execute_result"
    }
   ],
   "source": [
    "var_teste"
   ]
  },
  {
   "cell_type": "markdown",
   "id": "84d640f4",
   "metadata": {},
   "source": [
    "Você só pode usar uma variável se você a definiu antes."
   ]
  },
  {
   "cell_type": "markdown",
   "id": "2dd314fe",
   "metadata": {},
   "source": [
    " Para modificar o valor da variável é só executar com o mesmo nome e trocar o número."
   ]
  },
  {
   "cell_type": "code",
   "execution_count": 4,
   "id": "67cc9dd1",
   "metadata": {},
   "outputs": [],
   "source": [
    "var_teste = 2"
   ]
  },
  {
   "cell_type": "markdown",
   "id": "e779c156",
   "metadata": {},
   "source": [
    "*# Também é possível utilizar para verficar os tipos de variáveis.*"
   ]
  },
  {
   "cell_type": "code",
   "execution_count": 6,
   "id": "ac061a65",
   "metadata": {},
   "outputs": [
    {
     "data": {
      "text/plain": [
       "int"
      ]
     },
     "execution_count": 6,
     "metadata": {},
     "output_type": "execute_result"
    }
   ],
   "source": [
    "type(var_teste)"
   ]
  },
  {
   "cell_type": "markdown",
   "id": "84c6bc4c",
   "metadata": {},
   "source": [
    "**Declaração Múltipla**"
   ]
  },
  {
   "cell_type": "code",
   "execution_count": 9,
   "id": "43150c4c",
   "metadata": {},
   "outputs": [],
   "source": [
    "pessoa1, pessoa2, pessoa3 = \"Bob\", \"Maria\", \"Ana\""
   ]
  },
  {
   "cell_type": "code",
   "execution_count": 10,
   "id": "03ac834a",
   "metadata": {},
   "outputs": [
    {
     "data": {
      "text/plain": [
       "'Bob'"
      ]
     },
     "execution_count": 10,
     "metadata": {},
     "output_type": "execute_result"
    }
   ],
   "source": [
    "pessoa1"
   ]
  },
  {
   "cell_type": "code",
   "execution_count": 11,
   "id": "891d229d",
   "metadata": {},
   "outputs": [
    {
     "data": {
      "text/plain": [
       "'Maria'"
      ]
     },
     "execution_count": 11,
     "metadata": {},
     "output_type": "execute_result"
    }
   ],
   "source": [
    "pessoa2"
   ]
  },
  {
   "cell_type": "code",
   "execution_count": 12,
   "id": "abeaa3f2",
   "metadata": {},
   "outputs": [
    {
     "data": {
      "text/plain": [
       "'Ana'"
      ]
     },
     "execution_count": 12,
     "metadata": {},
     "output_type": "execute_result"
    }
   ],
   "source": [
    "pessoa3"
   ]
  },
  {
   "cell_type": "code",
   "execution_count": 17,
   "id": "fdf47d63",
   "metadata": {},
   "outputs": [],
   "source": [
    "fruta1 = fruta2 = fruta3 = \"Melancia\""
   ]
  },
  {
   "cell_type": "code",
   "execution_count": 18,
   "id": "29c1dcaf",
   "metadata": {},
   "outputs": [
    {
     "data": {
      "text/plain": [
       "'Melancia'"
      ]
     },
     "execution_count": 18,
     "metadata": {},
     "output_type": "execute_result"
    }
   ],
   "source": [
    "fruta1"
   ]
  },
  {
   "cell_type": "code",
   "execution_count": 19,
   "id": "1edbbc0c",
   "metadata": {},
   "outputs": [
    {
     "data": {
      "text/plain": [
       "'Melancia'"
      ]
     },
     "execution_count": 19,
     "metadata": {},
     "output_type": "execute_result"
    }
   ],
   "source": [
    "fruta2"
   ]
  },
  {
   "cell_type": "code",
   "execution_count": 20,
   "id": "6f118160",
   "metadata": {},
   "outputs": [
    {
     "data": {
      "text/plain": [
       "'Melancia'"
      ]
     },
     "execution_count": 20,
     "metadata": {},
     "output_type": "execute_result"
    }
   ],
   "source": [
    "fruta3"
   ]
  },
  {
   "cell_type": "markdown",
   "id": "bfe4a7b8",
   "metadata": {},
   "source": [
    "*Podemos usar letras e números como nome da variável, mas não pode começar com um número.*"
   ]
  },
  {
   "cell_type": "code",
   "execution_count": 1,
   "id": "7a943be2",
   "metadata": {},
   "outputs": [],
   "source": [
    "x1 = 50"
   ]
  },
  {
   "cell_type": "code",
   "execution_count": 2,
   "id": "03fb1ff9",
   "metadata": {},
   "outputs": [
    {
     "data": {
      "text/plain": [
       "50"
      ]
     },
     "execution_count": 2,
     "metadata": {},
     "output_type": "execute_result"
    }
   ],
   "source": [
    "x1"
   ]
  },
  {
   "cell_type": "code",
   "execution_count": 5,
   "id": "2872b521",
   "metadata": {},
   "outputs": [
    {
     "ename": "SyntaxError",
     "evalue": "invalid syntax (4144205018.py, line 1)",
     "output_type": "error",
     "traceback": [
      "\u001b[1;36m  File \u001b[1;32m\"C:\\Users\\212331506\\AppData\\Local\\Temp\\ipykernel_3108\\4144205018.py\"\u001b[1;36m, line \u001b[1;32m1\u001b[0m\n\u001b[1;33m    1x = 50\u001b[0m\n\u001b[1;37m     ^\u001b[0m\n\u001b[1;31mSyntaxError\u001b[0m\u001b[1;31m:\u001b[0m invalid syntax\n"
     ]
    }
   ],
   "source": [
    "1x = 50"
   ]
  },
  {
   "cell_type": "markdown",
   "id": "c3b25657",
   "metadata": {},
   "source": [
    "**Variáveis Atribuídas a outras variáveis e Ordem dos Operadores**"
   ]
  },
  {
   "cell_type": "code",
   "execution_count": 6,
   "id": "b2255161",
   "metadata": {},
   "outputs": [],
   "source": [
    "largura = 2"
   ]
  },
  {
   "cell_type": "code",
   "execution_count": 7,
   "id": "3677d620",
   "metadata": {},
   "outputs": [],
   "source": [
    "altura = 4"
   ]
  },
  {
   "cell_type": "code",
   "execution_count": 8,
   "id": "6d29418f",
   "metadata": {},
   "outputs": [],
   "source": [
    "area = largura * altura"
   ]
  },
  {
   "cell_type": "code",
   "execution_count": 9,
   "id": "6f02dd61",
   "metadata": {},
   "outputs": [
    {
     "data": {
      "text/plain": [
       "8"
      ]
     },
     "execution_count": 9,
     "metadata": {},
     "output_type": "execute_result"
    }
   ],
   "source": [
    "area"
   ]
  },
  {
   "cell_type": "code",
   "execution_count": 10,
   "id": "a43e237f",
   "metadata": {},
   "outputs": [],
   "source": [
    "perimetro = 2 * largura + 2 * altura"
   ]
  },
  {
   "cell_type": "code",
   "execution_count": 11,
   "id": "611e95e4",
   "metadata": {},
   "outputs": [
    {
     "data": {
      "text/plain": [
       "12"
      ]
     },
     "execution_count": 11,
     "metadata": {},
     "output_type": "execute_result"
    }
   ],
   "source": [
    "perimetro"
   ]
  },
  {
   "cell_type": "markdown",
   "id": "e65252f3",
   "metadata": {},
   "source": [
    "*# A ordem dos operadores é a mesma seguida na Matemática*"
   ]
  },
  {
   "cell_type": "code",
   "execution_count": 12,
   "id": "ae840467",
   "metadata": {},
   "outputs": [],
   "source": [
    "Perimetro = 2 * (largura + 2) * altura"
   ]
  },
  {
   "cell_type": "code",
   "execution_count": 13,
   "id": "f3c38f10",
   "metadata": {},
   "outputs": [
    {
     "data": {
      "text/plain": [
       "32"
      ]
     },
     "execution_count": 13,
     "metadata": {},
     "output_type": "execute_result"
    }
   ],
   "source": [
    "Perimetro"
   ]
  },
  {
   "cell_type": "markdown",
   "id": "3e8d33f0",
   "metadata": {},
   "source": [
    "**Operações com variáveis**"
   ]
  },
  {
   "cell_type": "code",
   "execution_count": 14,
   "id": "03ca30bd",
   "metadata": {},
   "outputs": [],
   "source": [
    "idade1 = 25"
   ]
  },
  {
   "cell_type": "code",
   "execution_count": 15,
   "id": "7eb3ac6a",
   "metadata": {},
   "outputs": [],
   "source": [
    "idade2 = 35"
   ]
  },
  {
   "cell_type": "code",
   "execution_count": 16,
   "id": "32856b31",
   "metadata": {},
   "outputs": [
    {
     "data": {
      "text/plain": [
       "60"
      ]
     },
     "execution_count": 16,
     "metadata": {},
     "output_type": "execute_result"
    }
   ],
   "source": [
    "idade1 + idade2"
   ]
  },
  {
   "cell_type": "code",
   "execution_count": 21,
   "id": "c80f8d0d",
   "metadata": {},
   "outputs": [
    {
     "data": {
      "text/plain": [
       "10"
      ]
     },
     "execution_count": 21,
     "metadata": {},
     "output_type": "execute_result"
    }
   ],
   "source": [
    "idade2 - idade1"
   ]
  },
  {
   "cell_type": "code",
   "execution_count": 22,
   "id": "63624ba5",
   "metadata": {},
   "outputs": [
    {
     "data": {
      "text/plain": [
       "875"
      ]
     },
     "execution_count": 22,
     "metadata": {},
     "output_type": "execute_result"
    }
   ],
   "source": [
    "idade2 * idade1"
   ]
  },
  {
   "cell_type": "code",
   "execution_count": 23,
   "id": "722c2aab",
   "metadata": {},
   "outputs": [
    {
     "data": {
      "text/plain": [
       "1.4"
      ]
     },
     "execution_count": 23,
     "metadata": {},
     "output_type": "execute_result"
    }
   ],
   "source": [
    "idade2 / idade1"
   ]
  },
  {
   "cell_type": "code",
   "execution_count": 24,
   "id": "151a70aa",
   "metadata": {},
   "outputs": [
    {
     "data": {
      "text/plain": [
       "10"
      ]
     },
     "execution_count": 24,
     "metadata": {},
     "output_type": "execute_result"
    }
   ],
   "source": [
    "idade2 % idade1"
   ]
  },
  {
   "cell_type": "markdown",
   "id": "263d0337",
   "metadata": {},
   "source": [
    "**Concatenação de Variáveis**"
   ]
  },
  {
   "cell_type": "code",
   "execution_count": 25,
   "id": "c77aac2f",
   "metadata": {},
   "outputs": [],
   "source": [
    "nome = \"Bob\""
   ]
  },
  {
   "cell_type": "code",
   "execution_count": 26,
   "id": "e91f59d5",
   "metadata": {},
   "outputs": [],
   "source": [
    "sobrenome = \"Marley\""
   ]
  },
  {
   "cell_type": "code",
   "execution_count": 27,
   "id": "71408dca",
   "metadata": {},
   "outputs": [],
   "source": [
    "fullname = nome + \" \" + sobrenome"
   ]
  },
  {
   "cell_type": "code",
   "execution_count": 28,
   "id": "66a195d2",
   "metadata": {},
   "outputs": [
    {
     "data": {
      "text/plain": [
       "'Bob Marley'"
      ]
     },
     "execution_count": 28,
     "metadata": {},
     "output_type": "execute_result"
    }
   ],
   "source": [
    "fullname"
   ]
  }
 ],
 "metadata": {
  "kernelspec": {
   "display_name": "Python 3 (ipykernel)",
   "language": "python",
   "name": "python3"
  },
  "language_info": {
   "codemirror_mode": {
    "name": "ipython",
    "version": 3
   },
   "file_extension": ".py",
   "mimetype": "text/x-python",
   "name": "python",
   "nbconvert_exporter": "python",
   "pygments_lexer": "ipython3",
   "version": "3.9.13"
  }
 },
 "nbformat": 4,
 "nbformat_minor": 5
}
