{
 "cells": [
  {
   "cell_type": "markdown",
   "id": "821796ca",
   "metadata": {},
   "source": [
    "**Trabalhando com Funções em Python**"
   ]
  },
  {
   "cell_type": "code",
   "execution_count": 1,
   "id": "58071183",
   "metadata": {},
   "outputs": [
    {
     "name": "stdout",
     "output_type": "stream",
     "text": [
      "Hello World\n"
     ]
    }
   ],
   "source": [
    "print('Hello World')"
   ]
  },
  {
   "cell_type": "code",
   "execution_count": 2,
   "id": "738d2c99",
   "metadata": {},
   "outputs": [],
   "source": [
    "#Definindo uma função\n",
    "def primeiraFunc():\n",
    "    print('Hello World')"
   ]
  },
  {
   "cell_type": "code",
   "execution_count": 3,
   "id": "5fee3629",
   "metadata": {},
   "outputs": [
    {
     "name": "stdout",
     "output_type": "stream",
     "text": [
      "Hello World\n"
     ]
    }
   ],
   "source": [
    "primeiraFunc()"
   ]
  },
  {
   "cell_type": "code",
   "execution_count": 4,
   "id": "90a774c2",
   "metadata": {},
   "outputs": [],
   "source": [
    "#Definindo uma função\n",
    "def primeiraFunc():\n",
    "    nome = 'Bob'\n",
    "    print('Hello %s' %(nome))"
   ]
  },
  {
   "cell_type": "code",
   "execution_count": 5,
   "id": "27d853da",
   "metadata": {},
   "outputs": [
    {
     "name": "stdout",
     "output_type": "stream",
     "text": [
      "Hello Bob\n"
     ]
    }
   ],
   "source": [
    "primeiraFunc()"
   ]
  },
  {
   "cell_type": "code",
   "execution_count": 6,
   "id": "ac2c1c69",
   "metadata": {},
   "outputs": [],
   "source": [
    "#Definindo uma função com parâmetro\n",
    "def segundaFunc(nome):\n",
    "    print('Hello %s' %(nome))"
   ]
  },
  {
   "cell_type": "code",
   "execution_count": 7,
   "id": "cf230424",
   "metadata": {},
   "outputs": [
    {
     "name": "stdout",
     "output_type": "stream",
     "text": [
      "Hello Aluno\n"
     ]
    }
   ],
   "source": [
    "segundaFunc('Aluno')"
   ]
  },
  {
   "cell_type": "code",
   "execution_count": 8,
   "id": "7c4e2882",
   "metadata": {},
   "outputs": [
    {
     "ename": "TypeError",
     "evalue": "segundaFunc() missing 1 required positional argument: 'nome'",
     "output_type": "error",
     "traceback": [
      "\u001b[1;31m---------------------------------------------------------------------------\u001b[0m",
      "\u001b[1;31mTypeError\u001b[0m                                 Traceback (most recent call last)",
      "\u001b[1;32m~\\AppData\\Local\\Temp\\ipykernel_21252\\494153477.py\u001b[0m in \u001b[0;36m<module>\u001b[1;34m\u001b[0m\n\u001b[1;32m----> 1\u001b[1;33m \u001b[0msegundaFunc\u001b[0m\u001b[1;33m(\u001b[0m\u001b[1;33m)\u001b[0m\u001b[1;33m\u001b[0m\u001b[1;33m\u001b[0m\u001b[0m\n\u001b[0m",
      "\u001b[1;31mTypeError\u001b[0m: segundaFunc() missing 1 required positional argument: 'nome'"
     ]
    }
   ],
   "source": [
    "segundaFunc()"
   ]
  },
  {
   "cell_type": "code",
   "execution_count": 9,
   "id": "c78e14ef",
   "metadata": {},
   "outputs": [],
   "source": [
    "#Função para imprimir números\n",
    "def imprimeNumeros():\n",
    "    \n",
    "    #Loop\n",
    "    for i in range(0,5):\n",
    "        print(\"Número \" + str(i))"
   ]
  },
  {
   "cell_type": "code",
   "execution_count": 10,
   "id": "a8708a03",
   "metadata": {},
   "outputs": [
    {
     "name": "stdout",
     "output_type": "stream",
     "text": [
      "Número 0\n",
      "Número 1\n",
      "Número 2\n",
      "Número 3\n",
      "Número 4\n"
     ]
    }
   ],
   "source": [
    "imprimeNumeros()"
   ]
  },
  {
   "cell_type": "code",
   "execution_count": 11,
   "id": "d3333cfb",
   "metadata": {},
   "outputs": [],
   "source": [
    "#Função para somar números\n",
    "def addNum(firstnum, secondnum):\n",
    "    print(\"Primeiro número \" + str(firstnum))\n",
    "    print(\"Segundo número \" + str(secondnum))\n",
    "    print(\"Soma: \", firstnum + secondnum)"
   ]
  },
  {
   "cell_type": "code",
   "execution_count": 12,
   "id": "baa22c9b",
   "metadata": {},
   "outputs": [
    {
     "name": "stdout",
     "output_type": "stream",
     "text": [
      "Primeiro número 4\n",
      "Segundo número 7\n",
      "Soma:  11\n"
     ]
    }
   ],
   "source": [
    "#Chamando a função e passando parâmetros\n",
    "addNum(4, 7)\n"
   ]
  },
  {
   "cell_type": "code",
   "execution_count": 13,
   "id": "b080e627",
   "metadata": {},
   "outputs": [
    {
     "name": "stdout",
     "output_type": "stream",
     "text": [
      "Primeiro número 45\n",
      "Segundo número 3\n",
      "Soma:  48\n"
     ]
    }
   ],
   "source": [
    "#Chamando a função e passando parâmetros\n",
    "addNum(45, 3)"
   ]
  },
  {
   "cell_type": "code",
   "execution_count": 14,
   "id": "7fee366a",
   "metadata": {},
   "outputs": [],
   "source": [
    "#Funções com número variável de argumentos\n",
    "def printVarInfo(arg1, *vartuple):\n",
    "    #Imprimindo o valor do primeiro argumento\n",
    "    print (\"O parâmetro passado foi: \", arg1)\n",
    "    \n",
    "    #Imprimindo o valor do segundo argumento\n",
    "    for item in vartuple:\n",
    "        print(\"O parâmetro passado foi: \", item)\n",
    "    return;        "
   ]
  },
  {
   "cell_type": "code",
   "execution_count": 15,
   "id": "2e2625bb",
   "metadata": {},
   "outputs": [
    {
     "name": "stdout",
     "output_type": "stream",
     "text": [
      "O parâmetro passado foi:  10\n"
     ]
    }
   ],
   "source": [
    "#Fazendo chamada à Função usando apenas 1 argumento\n",
    "printVarInfo(10)"
   ]
  },
  {
   "cell_type": "code",
   "execution_count": 16,
   "id": "571a9949",
   "metadata": {},
   "outputs": [
    {
     "name": "stdout",
     "output_type": "stream",
     "text": [
      "O parâmetro passado foi:  Chocolate\n",
      "O parâmetro passado foi:  Morango\n"
     ]
    }
   ],
   "source": [
    "printVarInfo('Chocolate', 'Morango')"
   ]
  },
  {
   "cell_type": "code",
   "execution_count": 17,
   "id": "283ff0c5",
   "metadata": {},
   "outputs": [
    {
     "name": "stdout",
     "output_type": "stream",
     "text": [
      "O parâmetro passado foi:  Data\n",
      "O parâmetro passado foi:  Science\n",
      "O parâmetro passado foi:  Academy\n"
     ]
    }
   ],
   "source": [
    "printVarInfo('Data', 'Science', 'Academy')"
   ]
  },
  {
   "cell_type": "markdown",
   "id": "fe571582",
   "metadata": {},
   "source": [
    "**Escopo de Variável - Local e Global**"
   ]
  },
  {
   "cell_type": "code",
   "execution_count": 18,
   "id": "7904ea25",
   "metadata": {},
   "outputs": [],
   "source": [
    "#Variável Global\n",
    "var_global = 10 #Esta é uma variável global\n",
    "\n",
    "#Função\n",
    "def multiplica_numeros(num1, num2):\n",
    "    var_global = num1 * num2 #Esta é uma variável local\n",
    "    print(var_global)"
   ]
  },
  {
   "cell_type": "code",
   "execution_count": 19,
   "id": "b19d0dd2",
   "metadata": {},
   "outputs": [
    {
     "name": "stdout",
     "output_type": "stream",
     "text": [
      "125\n"
     ]
    }
   ],
   "source": [
    "multiplica_numeros(5, 25)"
   ]
  },
  {
   "cell_type": "code",
   "execution_count": 20,
   "id": "d698412d",
   "metadata": {},
   "outputs": [
    {
     "name": "stdout",
     "output_type": "stream",
     "text": [
      "10\n"
     ]
    }
   ],
   "source": [
    "print(var_global)"
   ]
  },
  {
   "cell_type": "code",
   "execution_count": 21,
   "id": "3481352e",
   "metadata": {},
   "outputs": [],
   "source": [
    "#Variável Global\n",
    "var_global = 10 #Esta é uma variável global\n",
    "\n",
    "#Função\n",
    "def multiplica_numeros(num1, num2):\n",
    "    var_local = num1 * num2 #Esta é uma variável local\n",
    "    print(var_local)"
   ]
  },
  {
   "cell_type": "code",
   "execution_count": 22,
   "id": "53bdf80d",
   "metadata": {},
   "outputs": [
    {
     "name": "stdout",
     "output_type": "stream",
     "text": [
      "125\n"
     ]
    }
   ],
   "source": [
    "multiplica_numeros(5, 25)"
   ]
  },
  {
   "cell_type": "code",
   "execution_count": 23,
   "id": "ec109735",
   "metadata": {},
   "outputs": [
    {
     "ename": "NameError",
     "evalue": "name 'var_local' is not defined",
     "output_type": "error",
     "traceback": [
      "\u001b[1;31m---------------------------------------------------------------------------\u001b[0m",
      "\u001b[1;31mNameError\u001b[0m                                 Traceback (most recent call last)",
      "\u001b[1;32m~\\AppData\\Local\\Temp\\ipykernel_21252\\1392635205.py\u001b[0m in \u001b[0;36m<module>\u001b[1;34m\u001b[0m\n\u001b[1;32m----> 1\u001b[1;33m \u001b[0mprint\u001b[0m\u001b[1;33m(\u001b[0m\u001b[0mvar_local\u001b[0m\u001b[1;33m)\u001b[0m\u001b[1;33m\u001b[0m\u001b[1;33m\u001b[0m\u001b[0m\n\u001b[0m",
      "\u001b[1;31mNameError\u001b[0m: name 'var_local' is not defined"
     ]
    }
   ],
   "source": [
    "print(var_local)"
   ]
  },
  {
   "cell_type": "code",
   "execution_count": 24,
   "id": "a07fd85d",
   "metadata": {},
   "outputs": [
    {
     "name": "stdout",
     "output_type": "stream",
     "text": [
      "10\n"
     ]
    }
   ],
   "source": [
    "print(var_global)"
   ]
  },
  {
   "cell_type": "markdown",
   "id": "ec390015",
   "metadata": {},
   "source": [
    "**Funções Built-in**"
   ]
  },
  {
   "cell_type": "code",
   "execution_count": 25,
   "id": "c8b42bd3",
   "metadata": {},
   "outputs": [
    {
     "data": {
      "text/plain": [
       "56"
      ]
     },
     "execution_count": 25,
     "metadata": {},
     "output_type": "execute_result"
    }
   ],
   "source": [
    "abs(-56)"
   ]
  },
  {
   "cell_type": "code",
   "execution_count": 26,
   "id": "695355d8",
   "metadata": {},
   "outputs": [
    {
     "data": {
      "text/plain": [
       "23"
      ]
     },
     "execution_count": 26,
     "metadata": {},
     "output_type": "execute_result"
    }
   ],
   "source": [
    "abs(23)"
   ]
  },
  {
   "cell_type": "code",
   "execution_count": 27,
   "id": "7b1ffe4c",
   "metadata": {},
   "outputs": [
    {
     "data": {
      "text/plain": [
       "False"
      ]
     },
     "execution_count": 27,
     "metadata": {},
     "output_type": "execute_result"
    }
   ],
   "source": [
    "bool(0)"
   ]
  },
  {
   "cell_type": "code",
   "execution_count": 28,
   "id": "ce841403",
   "metadata": {},
   "outputs": [
    {
     "data": {
      "text/plain": [
       "True"
      ]
     },
     "execution_count": 28,
     "metadata": {},
     "output_type": "execute_result"
    }
   ],
   "source": [
    "bool(1)"
   ]
  },
  {
   "cell_type": "code",
   "execution_count": 29,
   "id": "914e4b6c",
   "metadata": {},
   "outputs": [
    {
     "data": {
      "text/plain": [
       "4"
      ]
     },
     "execution_count": 29,
     "metadata": {},
     "output_type": "execute_result"
    }
   ],
   "source": [
    "int(4.3)"
   ]
  },
  {
   "cell_type": "code",
   "execution_count": 30,
   "id": "7f8d9073",
   "metadata": {},
   "outputs": [
    {
     "data": {
      "text/plain": [
       "'13'"
      ]
     },
     "execution_count": 30,
     "metadata": {},
     "output_type": "execute_result"
    }
   ],
   "source": [
    "str(13)"
   ]
  },
  {
   "cell_type": "code",
   "execution_count": 31,
   "id": "e95adc70",
   "metadata": {},
   "outputs": [
    {
     "data": {
      "text/plain": [
       "5.0"
      ]
     },
     "execution_count": 31,
     "metadata": {},
     "output_type": "execute_result"
    }
   ],
   "source": [
    "float(5)"
   ]
  },
  {
   "cell_type": "code",
   "execution_count": 32,
   "id": "ef60c31b",
   "metadata": {},
   "outputs": [
    {
     "name": "stdout",
     "output_type": "stream",
     "text": [
      "Digite sua idade: 14\n"
     ]
    },
    {
     "ename": "TypeError",
     "evalue": "'>' not supported between instances of 'str' and 'int'",
     "output_type": "error",
     "traceback": [
      "\u001b[1;31m---------------------------------------------------------------------------\u001b[0m",
      "\u001b[1;31mTypeError\u001b[0m                                 Traceback (most recent call last)",
      "\u001b[1;32m~\\AppData\\Local\\Temp\\ipykernel_21252\\1871166957.py\u001b[0m in \u001b[0;36m<module>\u001b[1;34m\u001b[0m\n\u001b[0;32m      1\u001b[0m \u001b[1;31m#Erro ao executar por causa da conversão\u001b[0m\u001b[1;33m\u001b[0m\u001b[1;33m\u001b[0m\u001b[0m\n\u001b[0;32m      2\u001b[0m \u001b[0midade\u001b[0m \u001b[1;33m=\u001b[0m \u001b[0minput\u001b[0m\u001b[1;33m(\u001b[0m\u001b[1;34m\"Digite sua idade: \"\u001b[0m\u001b[1;33m)\u001b[0m\u001b[1;33m\u001b[0m\u001b[1;33m\u001b[0m\u001b[0m\n\u001b[1;32m----> 3\u001b[1;33m \u001b[1;32mif\u001b[0m \u001b[0midade\u001b[0m \u001b[1;33m>\u001b[0m \u001b[1;36m13\u001b[0m\u001b[1;33m:\u001b[0m\u001b[1;33m\u001b[0m\u001b[1;33m\u001b[0m\u001b[0m\n\u001b[0m\u001b[0;32m      4\u001b[0m     \u001b[0mprint\u001b[0m\u001b[1;33m(\u001b[0m\u001b[1;34m\"Você pode acessar Redes Sociais sem supervisão!\"\u001b[0m\u001b[1;33m)\u001b[0m\u001b[1;33m\u001b[0m\u001b[1;33m\u001b[0m\u001b[0m\n\u001b[0;32m      5\u001b[0m \u001b[1;32melse\u001b[0m\u001b[1;33m:\u001b[0m\u001b[1;33m\u001b[0m\u001b[1;33m\u001b[0m\u001b[0m\n",
      "\u001b[1;31mTypeError\u001b[0m: '>' not supported between instances of 'str' and 'int'"
     ]
    }
   ],
   "source": [
    "#Erro ao executar por causa da conversão\n",
    "idade = input(\"Digite sua idade: \")\n",
    "if idade > 13:\n",
    "    print(\"Você pode acessar Redes Sociais sem supervisão!\")\n",
    "else:\n",
    "    print(\"Seus pais não deveriam deixar você acessar Redes Sociais sem supervisão\")"
   ]
  },
  {
   "cell_type": "code",
   "execution_count": 33,
   "id": "038aa61e",
   "metadata": {},
   "outputs": [
    {
     "name": "stdout",
     "output_type": "stream",
     "text": [
      "Digite sua idade: 12\n",
      "Seus pais não deveriam deixar você acessar Redes Sociais sem supervisão\n"
     ]
    }
   ],
   "source": [
    "#Usando a função int para converter o valor digitado\n",
    "idade = int(input(\"Digite sua idade: \"))\n",
    "if idade > 13:\n",
    "    print(\"Você pode acessar Redes Sociais sem supervisão!\")\n",
    "else:\n",
    "    print(\"Seus pais não deveriam deixar você acessar Redes Sociais sem supervisão\")"
   ]
  },
  {
   "cell_type": "code",
   "execution_count": 34,
   "id": "a9a799f2",
   "metadata": {},
   "outputs": [
    {
     "data": {
      "text/plain": [
       "26"
      ]
     },
     "execution_count": 34,
     "metadata": {},
     "output_type": "execute_result"
    }
   ],
   "source": [
    "int(\"26\")"
   ]
  },
  {
   "cell_type": "code",
   "execution_count": 35,
   "id": "8bb013c9",
   "metadata": {},
   "outputs": [
    {
     "data": {
      "text/plain": [
       "123.345"
      ]
     },
     "execution_count": 35,
     "metadata": {},
     "output_type": "execute_result"
    }
   ],
   "source": [
    "float(\"123.345\")"
   ]
  },
  {
   "cell_type": "code",
   "execution_count": 36,
   "id": "ced40fdb",
   "metadata": {},
   "outputs": [
    {
     "data": {
      "text/plain": [
       "'14'"
      ]
     },
     "execution_count": 36,
     "metadata": {},
     "output_type": "execute_result"
    }
   ],
   "source": [
    "str(14)"
   ]
  },
  {
   "cell_type": "code",
   "execution_count": 37,
   "id": "c4e2feef",
   "metadata": {},
   "outputs": [
    {
     "data": {
      "text/plain": [
       "4"
      ]
     },
     "execution_count": 37,
     "metadata": {},
     "output_type": "execute_result"
    }
   ],
   "source": [
    "len([23,34,45,46])"
   ]
  },
  {
   "cell_type": "code",
   "execution_count": 38,
   "id": "f6e8be2a",
   "metadata": {},
   "outputs": [],
   "source": [
    "array = [1,2,3]"
   ]
  },
  {
   "cell_type": "code",
   "execution_count": 39,
   "id": "74ae4a19",
   "metadata": {},
   "outputs": [
    {
     "data": {
      "text/plain": [
       "3"
      ]
     },
     "execution_count": 39,
     "metadata": {},
     "output_type": "execute_result"
    }
   ],
   "source": [
    "max(array)"
   ]
  },
  {
   "cell_type": "code",
   "execution_count": 40,
   "id": "5198b2cd",
   "metadata": {},
   "outputs": [
    {
     "data": {
      "text/plain": [
       "1"
      ]
     },
     "execution_count": 40,
     "metadata": {},
     "output_type": "execute_result"
    }
   ],
   "source": [
    "min(array)"
   ]
  },
  {
   "cell_type": "code",
   "execution_count": 41,
   "id": "73a31ad8",
   "metadata": {},
   "outputs": [],
   "source": [
    "list1 = [16, 23, 44, 75]"
   ]
  },
  {
   "cell_type": "code",
   "execution_count": 42,
   "id": "e4d5f9a7",
   "metadata": {},
   "outputs": [
    {
     "data": {
      "text/plain": [
       "158"
      ]
     },
     "execution_count": 42,
     "metadata": {},
     "output_type": "execute_result"
    }
   ],
   "source": [
    "sum(list1)"
   ]
  },
  {
   "cell_type": "markdown",
   "id": "7f869e20",
   "metadata": {},
   "source": [
    "**Criando Funções Usando Outras Funções**"
   ]
  },
  {
   "cell_type": "code",
   "execution_count": 43,
   "id": "f5b911c1",
   "metadata": {},
   "outputs": [],
   "source": [
    "import math\n",
    "\n",
    "#Verificando se um número é primo\n",
    "def numPrimo(num):\n",
    "    if(num % 2) == 0 and num > 2:\n",
    "        return \"Este número não é primo\"\n",
    "    for i in range(3, int(math.sqrt(num)) + 1, 2):\n",
    "        if (num % i) == 0:\n",
    "            return \"Este número não é primo\"\n",
    "    return \"Este número é primo\""
   ]
  },
  {
   "cell_type": "code",
   "execution_count": 44,
   "id": "1f0eeb75",
   "metadata": {},
   "outputs": [
    {
     "data": {
      "text/plain": [
       "'Este número é primo'"
      ]
     },
     "execution_count": 44,
     "metadata": {},
     "output_type": "execute_result"
    }
   ],
   "source": [
    "numPrimo(541)"
   ]
  },
  {
   "cell_type": "code",
   "execution_count": 45,
   "id": "28e1fc39",
   "metadata": {},
   "outputs": [
    {
     "data": {
      "text/plain": [
       "'Este número é primo'"
      ]
     },
     "execution_count": 45,
     "metadata": {},
     "output_type": "execute_result"
    }
   ],
   "source": [
    "numPrimo(2)"
   ]
  },
  {
   "cell_type": "code",
   "execution_count": 46,
   "id": "624d0fc9",
   "metadata": {},
   "outputs": [],
   "source": [
    "caixa_baixa = \"Este Texto Deveriar Estar Todo Em LowerCase\""
   ]
  },
  {
   "cell_type": "code",
   "execution_count": 49,
   "id": "0de5e4be",
   "metadata": {},
   "outputs": [],
   "source": [
    "def lowercase(text):\n",
    "    return text.lower()"
   ]
  },
  {
   "cell_type": "code",
   "execution_count": 50,
   "id": "24e8b338",
   "metadata": {},
   "outputs": [],
   "source": [
    "lowercased_string = lowercase(caixa_baixa)"
   ]
  },
  {
   "cell_type": "code",
   "execution_count": 51,
   "id": "3421bd09",
   "metadata": {},
   "outputs": [
    {
     "data": {
      "text/plain": [
       "'este texto deveriar estar todo em lowercase'"
      ]
     },
     "execution_count": 51,
     "metadata": {},
     "output_type": "execute_result"
    }
   ],
   "source": [
    "lowercased_string"
   ]
  },
  {
   "cell_type": "code",
   "execution_count": 52,
   "id": "bb7256dc",
   "metadata": {},
   "outputs": [
    {
     "ename": "SyntaxError",
     "evalue": "invalid syntax (424009564.py, line 1)",
     "output_type": "error",
     "traceback": [
      "\u001b[1;36m  File \u001b[1;32m\"C:\\Users\\212331506\\AppData\\Local\\Temp\\ipykernel_21252\\424009564.py\"\u001b[1;36m, line \u001b[1;32m1\u001b[0m\n\u001b[1;33m    **Fazendo Split dos Dados**\u001b[0m\n\u001b[1;37m    ^\u001b[0m\n\u001b[1;31mSyntaxError\u001b[0m\u001b[1;31m:\u001b[0m invalid syntax\n"
     ]
    }
   ],
   "source": [
    "**Fazendo Split dos Dados**"
   ]
  },
  {
   "cell_type": "code",
   "execution_count": 53,
   "id": "fa8b0776",
   "metadata": {},
   "outputs": [],
   "source": [
    "#Fazendo split dos dados\n",
    "def split_string_palavras(text):\n",
    "    return text.split(\" \")"
   ]
  },
  {
   "cell_type": "code",
   "execution_count": 54,
   "id": "bdea5548",
   "metadata": {},
   "outputs": [],
   "source": [
    "texto = \"Esta função será bastante útil para separar grandes volumes de dados.\""
   ]
  },
  {
   "cell_type": "code",
   "execution_count": 55,
   "id": "93f478eb",
   "metadata": {},
   "outputs": [
    {
     "name": "stdout",
     "output_type": "stream",
     "text": [
      "['Esta', 'função', 'será', 'bastante', 'útil', 'para', 'separar', 'grandes', 'volumes', 'de', 'dados.']\n"
     ]
    }
   ],
   "source": [
    "#Isso divide a string em uma lista de palavras\n",
    "print(split_string_palavras(texto))"
   ]
  },
  {
   "cell_type": "code",
   "execution_count": 56,
   "id": "15d96bae",
   "metadata": {},
   "outputs": [],
   "source": [
    "#Podemos atribuir o output de uma função para uma variável\n",
    "token = split_string_palavras(texto)"
   ]
  },
  {
   "cell_type": "code",
   "execution_count": 57,
   "id": "33ef365c",
   "metadata": {},
   "outputs": [
    {
     "data": {
      "text/plain": [
       "['Esta',\n",
       " 'função',\n",
       " 'será',\n",
       " 'bastante',\n",
       " 'útil',\n",
       " 'para',\n",
       " 'separar',\n",
       " 'grandes',\n",
       " 'volumes',\n",
       " 'de',\n",
       " 'dados.']"
      ]
     },
     "execution_count": 57,
     "metadata": {},
     "output_type": "execute_result"
    }
   ],
   "source": [
    "token"
   ]
  },
  {
   "cell_type": "code",
   "execution_count": 58,
   "id": "5b3c6c9f",
   "metadata": {},
   "outputs": [],
   "source": [
    "#Fazendo split dos dados\n",
    "def split_string_letras(text):\n",
    "    texto = text.upper()\n",
    "    for letra in texto:\n",
    "        print(letra)"
   ]
  },
  {
   "cell_type": "code",
   "execution_count": 59,
   "id": "7f9f6dec",
   "metadata": {},
   "outputs": [
    {
     "name": "stdout",
     "output_type": "stream",
     "text": [
      "E\n",
      "S\n",
      "T\n",
      "A\n",
      " \n",
      "F\n",
      "U\n",
      "N\n",
      "Ç\n",
      "Ã\n",
      "O\n",
      " \n",
      "S\n",
      "E\n",
      "R\n",
      "Á\n",
      " \n",
      "B\n",
      "A\n",
      "S\n",
      "T\n",
      "A\n",
      "N\n",
      "T\n",
      "E\n",
      " \n",
      "Ú\n",
      "T\n",
      "I\n",
      "L\n",
      " \n",
      "P\n",
      "A\n",
      "R\n",
      "A\n",
      " \n",
      "S\n",
      "E\n",
      "P\n",
      "A\n",
      "R\n",
      "A\n",
      "R\n",
      " \n",
      "G\n",
      "R\n",
      "A\n",
      "N\n",
      "D\n",
      "E\n",
      "S\n",
      " \n",
      "V\n",
      "O\n",
      "L\n",
      "U\n",
      "M\n",
      "E\n",
      "S\n",
      " \n",
      "D\n",
      "E\n",
      " \n",
      "D\n",
      "A\n",
      "D\n",
      "O\n",
      "S\n",
      ".\n"
     ]
    }
   ],
   "source": [
    "split_string_letras(texto)"
   ]
  },
  {
   "cell_type": "code",
   "execution_count": null,
   "id": "22382e49",
   "metadata": {},
   "outputs": [],
   "source": []
  }
 ],
 "metadata": {
  "kernelspec": {
   "display_name": "Python 3 (ipykernel)",
   "language": "python",
   "name": "python3"
  },
  "language_info": {
   "codemirror_mode": {
    "name": "ipython",
    "version": 3
   },
   "file_extension": ".py",
   "mimetype": "text/x-python",
   "name": "python",
   "nbconvert_exporter": "python",
   "pygments_lexer": "ipython3",
   "version": "3.9.13"
  }
 },
 "nbformat": 4,
 "nbformat_minor": 5
}
