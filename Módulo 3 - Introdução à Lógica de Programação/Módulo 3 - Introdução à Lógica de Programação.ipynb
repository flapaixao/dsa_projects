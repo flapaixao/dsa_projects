{
 "cells": [
  {
   "cell_type": "markdown",
   "id": "9175cf67",
   "metadata": {},
   "source": [
    "**Convertendo o Pseudocódigo 1 em Programa Python**"
   ]
  },
  {
   "cell_type": "code",
   "execution_count": 1,
   "id": "f81039c0",
   "metadata": {},
   "outputs": [
    {
     "name": "stdout",
     "output_type": "stream",
     "text": [
      "Bem vindo ao Calculador de Área de Paralelogramo\n"
     ]
    }
   ],
   "source": [
    "print(\"Bem vindo ao Calculador de Área de Paralelogramo\")"
   ]
  },
  {
   "cell_type": "code",
   "execution_count": 2,
   "id": "8e28f04e",
   "metadata": {},
   "outputs": [
    {
     "name": "stdout",
     "output_type": "stream",
     "text": [
      "Insira o comprimento da base: 4\n"
     ]
    }
   ],
   "source": [
    "base = float(input(\"Insira o comprimento da base: \"))"
   ]
  },
  {
   "cell_type": "code",
   "execution_count": 3,
   "id": "6f3b1f20",
   "metadata": {},
   "outputs": [
    {
     "name": "stdout",
     "output_type": "stream",
     "text": [
      "Insira a altura: 6\n"
     ]
    }
   ],
   "source": [
    "altura = float(input(\"Insira a altura:\"))"
   ]
  },
  {
   "cell_type": "code",
   "execution_count": 5,
   "id": "0fb512d5",
   "metadata": {},
   "outputs": [],
   "source": [
    "area = base * altura"
   ]
  },
  {
   "cell_type": "code",
   "execution_count": 6,
   "id": "f4b4cac1",
   "metadata": {},
   "outputs": [
    {
     "name": "stdout",
     "output_type": "stream",
     "text": [
      "A área do paralelogramo é:  24.0\n"
     ]
    }
   ],
   "source": [
    "print(\"A área do paralelogramo é: \", area)"
   ]
  },
  {
   "cell_type": "markdown",
   "id": "16e5ebb8",
   "metadata": {},
   "source": [
    "**Convertendo o Pseudocódigo 2 em Programa Python**"
   ]
  },
  {
   "cell_type": "code",
   "execution_count": 7,
   "id": "4c7eb9f3",
   "metadata": {},
   "outputs": [
    {
     "name": "stdout",
     "output_type": "stream",
     "text": [
      "Bem-vindo à Calculadora\n"
     ]
    }
   ],
   "source": [
    "print(\"Bem-vindo à Calculadora\")"
   ]
  },
  {
   "cell_type": "code",
   "execution_count": 8,
   "id": "232d2698",
   "metadata": {},
   "outputs": [
    {
     "name": "stdout",
     "output_type": "stream",
     "text": [
      "Insira o primeiro número: 6\n"
     ]
    }
   ],
   "source": [
    "num1 = float(input(\"Insira o primeiro número: \"))"
   ]
  },
  {
   "cell_type": "code",
   "execution_count": 17,
   "id": "9e48b0c2",
   "metadata": {},
   "outputs": [
    {
     "name": "stdout",
     "output_type": "stream",
     "text": [
      "Insira o segundo número: 4\n"
     ]
    }
   ],
   "source": [
    "num2 = float(input(\"Insira o segundo número: \"))"
   ]
  },
  {
   "cell_type": "code",
   "execution_count": 13,
   "id": "dbe0b593",
   "metadata": {},
   "outputs": [
    {
     "name": "stdout",
     "output_type": "stream",
     "text": [
      "Selecione uma operação (+, -, *, /): +\n"
     ]
    }
   ],
   "source": [
    "operação = input(\"Selecione uma operação (+, -, *, /): \")"
   ]
  },
  {
   "cell_type": "code",
   "execution_count": 18,
   "id": "12bcad04",
   "metadata": {},
   "outputs": [
    {
     "name": "stdout",
     "output_type": "stream",
     "text": [
      "O resultado é:  10.0\n"
     ]
    }
   ],
   "source": [
    "if operação == \"+\":\n",
    "    resultado = num1 + num2\n",
    "    print(\"O resultado é: \", resultado)\n",
    "    \n",
    "elif operação == \"-\":\n",
    "    resultado = num1 - num2\n",
    "    print(\"O resultado é: \", resultado)\n",
    "    \n",
    "elif operação == \"*\":\n",
    "    resultado = num1 * num2\n",
    "    print(\"O resultado é: \", resultado)\n",
    "    \n",
    "elif operação == \"/\":\n",
    "    resultado = num1 / num2\n",
    "    print(\"O resultado é: \", resultado)"
   ]
  },
  {
   "cell_type": "markdown",
   "id": "cf03bf55",
   "metadata": {},
   "source": [
    "**Convertendo o Pseudocódigo 3 em Programa Python**"
   ]
  },
  {
   "cell_type": "code",
   "execution_count": 33,
   "id": "1f502096",
   "metadata": {},
   "outputs": [],
   "source": [
    "lista = [6,7,8,3,10,19,4,1,0,61,30,16,17,82,29,34,43,21,11,39,56,67,12] "
   ]
  },
  {
   "cell_type": "code",
   "execution_count": 30,
   "id": "e78d2532",
   "metadata": {},
   "outputs": [],
   "source": [
    "def bubble_sort(arr):\n",
    "\t\n",
    "\tn = len(arr)\n",
    "\n",
    "\t# Para cada elemeno i do array\n",
    "\tfor i in range(n):\n",
    "\n",
    "\t\t# Para cada elemeno j do array\n",
    "\t\tfor j in range(0, n-i-1):\n",
    "\n",
    "\t\t\t# Se o elemento if or maior que elemento j\n",
    "\t\t\tif arr[j] > arr[j+1]:\n",
    "\n",
    "\t\t\t\t# Troque os elementos i e j \n",
    "\t\t\t\tarr[j], arr[j+1] = arr[j+1], arr[j]\n",
    "                \n",
    "\treturn arr"
   ]
  },
  {
   "cell_type": "code",
   "execution_count": 34,
   "id": "6d7ad489",
   "metadata": {},
   "outputs": [
    {
     "name": "stdout",
     "output_type": "stream",
     "text": [
      "[0, 1, 3, 4, 6, 7, 8, 10, 11, 12, 16, 17, 19, 21, 29, 30, 34, 39, 43, 56, 61, 67, 82]\n"
     ]
    }
   ],
   "source": [
    "print(bubble_sort(lista))"
   ]
  },
  {
   "cell_type": "code",
   "execution_count": 35,
   "id": "e435c9af",
   "metadata": {},
   "outputs": [],
   "source": [
    "lista2 = [60,17,28,3,10,19,4,1,0,61,30,16,17,82,29,34,43,21,11,39,56,68,12] "
   ]
  },
  {
   "cell_type": "code",
   "execution_count": 36,
   "id": "e922cb5f",
   "metadata": {},
   "outputs": [
    {
     "name": "stdout",
     "output_type": "stream",
     "text": [
      "[0, 1, 3, 4, 10, 11, 12, 16, 17, 17, 19, 21, 28, 29, 30, 34, 39, 43, 56, 60, 61, 68, 82]\n"
     ]
    }
   ],
   "source": [
    "print(bubble_sort(lista2))"
   ]
  }
 ],
 "metadata": {
  "kernelspec": {
   "display_name": "Python 3 (ipykernel)",
   "language": "python",
   "name": "python3"
  },
  "language_info": {
   "codemirror_mode": {
    "name": "ipython",
    "version": 3
   },
   "file_extension": ".py",
   "mimetype": "text/x-python",
   "name": "python",
   "nbconvert_exporter": "python",
   "pygments_lexer": "ipython3",
   "version": "3.9.13"
  }
 },
 "nbformat": 4,
 "nbformat_minor": 5
}
