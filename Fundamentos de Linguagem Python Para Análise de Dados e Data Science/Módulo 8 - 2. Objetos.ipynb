{
 "cells": [
  {
   "cell_type": "markdown",
   "id": "65572092",
   "metadata": {},
   "source": [
    "## Objetos\n",
    "\n",
    "Em Python, Tudo é Objeto!"
   ]
  },
  {
   "cell_type": "code",
   "execution_count": 1,
   "id": "bfcf9a11",
   "metadata": {},
   "outputs": [],
   "source": [
    "# Criando uma lista\n",
    "lst_num = [\"Data\", \"Science\", \"Academy\", \"Nota\", 10, 10]"
   ]
  },
  {
   "cell_type": "code",
   "execution_count": 2,
   "id": "edbd6aa2",
   "metadata": {},
   "outputs": [
    {
     "data": {
      "text/plain": [
       "list"
      ]
     },
     "execution_count": 2,
     "metadata": {},
     "output_type": "execute_result"
    }
   ],
   "source": [
    "# A lista lst_num é um objeto, uma instância da classe lista em Python\n",
    "type(lst_num)"
   ]
  },
  {
   "cell_type": "code",
   "execution_count": 3,
   "id": "3d351993",
   "metadata": {},
   "outputs": [
    {
     "name": "stdout",
     "output_type": "stream",
     "text": [
      "<class 'list'>\n"
     ]
    }
   ],
   "source": [
    "print(type([]))"
   ]
  },
  {
   "cell_type": "code",
   "execution_count": 4,
   "id": "7e6309a1",
   "metadata": {},
   "outputs": [
    {
     "data": {
      "text/plain": [
       "2"
      ]
     },
     "execution_count": 4,
     "metadata": {},
     "output_type": "execute_result"
    }
   ],
   "source": [
    "lst_num.count(10)"
   ]
  },
  {
   "cell_type": "code",
   "execution_count": 5,
   "id": "0413a293",
   "metadata": {},
   "outputs": [
    {
     "name": "stdout",
     "output_type": "stream",
     "text": [
      "<class 'int'>\n",
      "<class 'list'>\n",
      "<class 'tuple'>\n",
      "<class 'dict'>\n",
      "<class 'str'>\n"
     ]
    }
   ],
   "source": [
    "# Usamos a função type, para verificar o tipo de um objeto\n",
    "print(type(10))\n",
    "print(type([]))\n",
    "print(type(()))\n",
    "print(type({}))\n",
    "print(type('a'))"
   ]
  },
  {
   "cell_type": "code",
   "execution_count": 6,
   "id": "c96c9f4f",
   "metadata": {},
   "outputs": [],
   "source": [
    "# Criando um novo tipo de objeto chamado Carro\n",
    "class Carro(object):\n",
    "    pass"
   ]
  },
  {
   "cell_type": "code",
   "execution_count": 7,
   "id": "fef3de0d",
   "metadata": {},
   "outputs": [],
   "source": [
    "# Instância do Carro\n",
    "ferrari = Carro()"
   ]
  },
  {
   "cell_type": "code",
   "execution_count": 8,
   "id": "60bebde2",
   "metadata": {},
   "outputs": [
    {
     "name": "stdout",
     "output_type": "stream",
     "text": [
      "<class '__main__.Carro'>\n"
     ]
    }
   ],
   "source": [
    "print(type(ferrari))"
   ]
  },
  {
   "cell_type": "code",
   "execution_count": 9,
   "id": "94c541cc",
   "metadata": {},
   "outputs": [],
   "source": [
    "# Criando uma classe\n",
    "class Estudantes:\n",
    "    def __init__(self, nome, idade, nota):\n",
    "        self.nome = nome\n",
    "        self.idade = idade\n",
    "        self.nota = nota"
   ]
  },
  {
   "cell_type": "code",
   "execution_count": 10,
   "id": "37c25c40",
   "metadata": {},
   "outputs": [],
   "source": [
    "# Criando um objeto chamado Estudante1 a partir da classe Estudantes\n",
    "Estudante1 = Estudantes(\"Bob\", 12, 9.5)"
   ]
  },
  {
   "cell_type": "code",
   "execution_count": 11,
   "id": "500204b5",
   "metadata": {},
   "outputs": [
    {
     "data": {
      "text/plain": [
       "'Bob'"
      ]
     },
     "execution_count": 11,
     "metadata": {},
     "output_type": "execute_result"
    }
   ],
   "source": [
    "# Atributo de classe Estudante, utilizado por cada objeto criado a partir desta classe\n",
    "Estudante1.nome"
   ]
  },
  {
   "cell_type": "code",
   "execution_count": 12,
   "id": "1a108528",
   "metadata": {},
   "outputs": [
    {
     "data": {
      "text/plain": [
       "12"
      ]
     },
     "execution_count": 12,
     "metadata": {},
     "output_type": "execute_result"
    }
   ],
   "source": [
    "# Atributo de classe Estudante, utilizado por cada objeto criado a partir desta classe\n",
    "Estudante1.idade"
   ]
  },
  {
   "cell_type": "code",
   "execution_count": 13,
   "id": "f4f634e0",
   "metadata": {},
   "outputs": [
    {
     "data": {
      "text/plain": [
       "9.5"
      ]
     },
     "execution_count": 13,
     "metadata": {},
     "output_type": "execute_result"
    }
   ],
   "source": [
    "# Atributo de classe Estudante, utilizado por cada objeto criado a partir desta classe\n",
    "Estudante1.nota"
   ]
  },
  {
   "cell_type": "code",
   "execution_count": 14,
   "id": "11f2156d",
   "metadata": {},
   "outputs": [],
   "source": [
    "# Criando uma classe\n",
    "class Funcionarios:\n",
    "    def __init__(self, nome, salario, cargo):\n",
    "        self.nome = nome\n",
    "        self.salario = salario\n",
    "        self.cargo = cargo\n",
    "        \n",
    "    def listFunc(self):\n",
    "        print(\"Funcionário(a) \" + self.nome + \" tem salário de R$\" + str(self.salario) + \" e o cargo é \" + self.cargo)"
   ]
  },
  {
   "cell_type": "code",
   "execution_count": 15,
   "id": "19f70622",
   "metadata": {},
   "outputs": [],
   "source": [
    "# Criando um objeto chamado Func1 a partir da classe Funcionarios\n",
    "Func1 = Funcionarios(\"Mary\", 2000, \"Cientista de Dados\")"
   ]
  },
  {
   "cell_type": "code",
   "execution_count": 16,
   "id": "8da4fcfe",
   "metadata": {},
   "outputs": [
    {
     "name": "stdout",
     "output_type": "stream",
     "text": [
      "Funcionário(a) Mary tem salário de R$2000 e o cargo é Cientista de Dados\n"
     ]
    }
   ],
   "source": [
    "# Usando o método da classe\n",
    "Func1.listFunc()"
   ]
  },
  {
   "cell_type": "code",
   "execution_count": 17,
   "id": "4fa17d7a",
   "metadata": {},
   "outputs": [
    {
     "name": "stdout",
     "output_type": "stream",
     "text": [
      "**** Usando atributos ****\n"
     ]
    }
   ],
   "source": [
    "print(\"**** Usando atributos ****\")"
   ]
  },
  {
   "cell_type": "code",
   "execution_count": 18,
   "id": "ec644c03",
   "metadata": {},
   "outputs": [
    {
     "data": {
      "text/plain": [
       "True"
      ]
     },
     "execution_count": 18,
     "metadata": {},
     "output_type": "execute_result"
    }
   ],
   "source": [
    "hasattr(Func1, \"nome\") #has | Tem o atributo nome ?"
   ]
  },
  {
   "cell_type": "code",
   "execution_count": 19,
   "id": "6dfd3a2d",
   "metadata": {},
   "outputs": [
    {
     "data": {
      "text/plain": [
       "True"
      ]
     },
     "execution_count": 19,
     "metadata": {},
     "output_type": "execute_result"
    }
   ],
   "source": [
    "hasattr(Func1, \"salario\") #has | Tem o atributo salario?"
   ]
  },
  {
   "cell_type": "code",
   "execution_count": 20,
   "id": "420dea6c",
   "metadata": {},
   "outputs": [],
   "source": [
    "setattr(Func1, \"salario\", 4500) #set | Mudar o atributo salario?"
   ]
  },
  {
   "cell_type": "code",
   "execution_count": 21,
   "id": "7bae74fe",
   "metadata": {},
   "outputs": [
    {
     "data": {
      "text/plain": [
       "True"
      ]
     },
     "execution_count": 21,
     "metadata": {},
     "output_type": "execute_result"
    }
   ],
   "source": [
    "hasattr(Func1, \"salario\") #has | Tem o atributo salario?"
   ]
  },
  {
   "cell_type": "code",
   "execution_count": 22,
   "id": "12b16285",
   "metadata": {},
   "outputs": [
    {
     "data": {
      "text/plain": [
       "4500"
      ]
     },
     "execution_count": 22,
     "metadata": {},
     "output_type": "execute_result"
    }
   ],
   "source": [
    " getattr(Func1, \"salario\")  #get | Retornar o valor do atributo salario"
   ]
  },
  {
   "cell_type": "code",
   "execution_count": 23,
   "id": "5595a72f",
   "metadata": {},
   "outputs": [],
   "source": [
    "delattr(Func1, \"salario\") #del | Deletar o valor do atributo salario"
   ]
  },
  {
   "cell_type": "code",
   "execution_count": 24,
   "id": "8a4b56d9",
   "metadata": {},
   "outputs": [
    {
     "data": {
      "text/plain": [
       "False"
      ]
     },
     "execution_count": 24,
     "metadata": {},
     "output_type": "execute_result"
    }
   ],
   "source": [
    "hasattr(Func1, \"salario\") #has | Tem o atributo salario?"
   ]
  }
 ],
 "metadata": {
  "kernelspec": {
   "display_name": "Python 3 (ipykernel)",
   "language": "python",
   "name": "python3"
  },
  "language_info": {
   "codemirror_mode": {
    "name": "ipython",
    "version": 3
   },
   "file_extension": ".py",
   "mimetype": "text/x-python",
   "name": "python",
   "nbconvert_exporter": "python",
   "pygments_lexer": "ipython3",
   "version": "3.9.13"
  }
 },
 "nbformat": 4,
 "nbformat_minor": 5
}
