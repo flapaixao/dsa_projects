{
 "cells": [
  {
   "cell_type": "markdown",
   "id": "61eb71c3",
   "metadata": {},
   "source": [
    "## Classes\n",
    "\n",
    "Em Programação Orientada a Objetos (POO), uma classe é uma estrutura que descreve um objeto, especificando os atributos e comportamentos que o objeto deve ter. Uma classe é uma espécie de modelo que define as características e ações que um objeto deve possuir.\n",
    "\n",
    "As classes são usadas para criar objetos, que são instâncias da classe. Cada objeto criado a partir da mesma classe terá os mesmos atributos e comportamentos."
   ]
  },
  {
   "cell_type": "markdown",
   "id": "115df28d",
   "metadata": {},
   "source": [
    "Para criar uma classe em Python, utiliza-se a palavra reservada class. \n",
    "\n",
    "O nome da classe segue a mesma convenção de nomes para criação de funções e variáveis em Python, mas normalmente se usa a primeira letra maiúscula em cada palavra no nome da classe."
   ]
  },
  {
   "cell_type": "code",
   "execution_count": 1,
   "id": "d80926b6",
   "metadata": {},
   "outputs": [],
   "source": [
    "# Criando uma classe chamada Livro\n",
    "class Livro():\n",
    "    \n",
    "    # Este método vai inicializar cada objeto criado a partir desta classe\n",
    "    # O nome deste método é __init__\n",
    "    # (self) é uma referência a cada atributo da própria classe (e não de uma classe mãe, por exemplo)\n",
    "    def __init__(self):\n",
    "        \n",
    "        # Atributos são propriedades \n",
    "        self.titulo = 'Sapiens - Uma Breve História da Humanidade'\n",
    "        self.isbn = 9988888\n",
    "        print(\"Construtor chamado para criar um objeto desta classe.\")\n",
    "        \n",
    "    # Métodos são funções que executam ações nos objetos da classe\n",
    "    def imprime(self):\n",
    "        print(\"Foi criado o livro %s com ISBN %d\" %(self.titulo, self.isbn))"
   ]
  },
  {
   "cell_type": "markdown",
   "id": "4558328a",
   "metadata": {},
   "source": [
    "Em Python, a palavra reservada self é uma referência ao objeto atual da classe. Quando um objeto é criado a partir de uma classe, self é utilizado para se referir a esse objeto específico."
   ]
  },
  {
   "cell_type": "code",
   "execution_count": 2,
   "id": "1c1015ed",
   "metadata": {
    "scrolled": true
   },
   "outputs": [
    {
     "name": "stdout",
     "output_type": "stream",
     "text": [
      "Construtor chamado para criar um objeto desta classe.\n"
     ]
    }
   ],
   "source": [
    "# Criando uma instância da classe Livro\n",
    "Livro1 = Livro()"
   ]
  },
  {
   "cell_type": "code",
   "execution_count": 3,
   "id": "69a1e2ea",
   "metadata": {},
   "outputs": [
    {
     "data": {
      "text/plain": [
       "__main__.Livro"
      ]
     },
     "execution_count": 3,
     "metadata": {},
     "output_type": "execute_result"
    }
   ],
   "source": [
    "# O objeto Livro1 é do tipo Livro\n",
    "type(Livro1)"
   ]
  },
  {
   "cell_type": "code",
   "execution_count": 4,
   "id": "d8253ebf",
   "metadata": {},
   "outputs": [
    {
     "data": {
      "text/plain": [
       "'Sapiens - Uma Breve História da Humanidade'"
      ]
     },
     "execution_count": 4,
     "metadata": {},
     "output_type": "execute_result"
    }
   ],
   "source": [
    "# Atrivbuto do objeto Livro1\n",
    "Livro1.titulo"
   ]
  },
  {
   "cell_type": "code",
   "execution_count": 5,
   "id": "78a4c5b1",
   "metadata": {},
   "outputs": [
    {
     "data": {
      "text/plain": [
       "<bound method Livro.imprime of <__main__.Livro object at 0x0000024FC80B18B0>>"
      ]
     },
     "execution_count": 5,
     "metadata": {},
     "output_type": "execute_result"
    }
   ],
   "source": [
    "Livro1.imprime"
   ]
  },
  {
   "cell_type": "code",
   "execution_count": 6,
   "id": "44fa5fd0",
   "metadata": {},
   "outputs": [
    {
     "data": {
      "text/plain": [
       "9988888"
      ]
     },
     "execution_count": 6,
     "metadata": {},
     "output_type": "execute_result"
    }
   ],
   "source": [
    "Livro1.isbn"
   ]
  },
  {
   "cell_type": "code",
   "execution_count": 7,
   "id": "b522b86f",
   "metadata": {},
   "outputs": [
    {
     "name": "stdout",
     "output_type": "stream",
     "text": [
      "Foi criado o livro Sapiens - Uma Breve História da Humanidade com ISBN 9988888\n"
     ]
    }
   ],
   "source": [
    "# Método Objeto Livro1\n",
    "Livro1.imprime()"
   ]
  },
  {
   "cell_type": "code",
   "execution_count": 8,
   "id": "569e336b",
   "metadata": {},
   "outputs": [],
   "source": [
    "# Criando a classe livro com parâmetros no método construtor\n",
    "class Livro():\n",
    "    \n",
    "    def __init__(self, titulo, isbn):\n",
    "        self.titulo = titulo\n",
    "        self.isbn = isbn\n",
    "        print(\"Construtor chamado para criar um obejto desta classe.\")\n",
    "        \n",
    "    def imprime(self, titulo, isbn):\n",
    "        print(\"Este é o livro %s e ISBN %d\" %(titulo, isbn))"
   ]
  },
  {
   "cell_type": "code",
   "execution_count": 9,
   "id": "8aa5271f",
   "metadata": {},
   "outputs": [
    {
     "name": "stdout",
     "output_type": "stream",
     "text": [
      "Construtor chamado para criar um obejto desta classe.\n"
     ]
    }
   ],
   "source": [
    "# Criando o objeto Livro2 que é uma instância da classe Livro\n",
    "Livro2 = Livro(\"O Poder do Hábito\", 77886611)"
   ]
  },
  {
   "cell_type": "code",
   "execution_count": 10,
   "id": "f89a1e72",
   "metadata": {},
   "outputs": [
    {
     "data": {
      "text/plain": [
       "'O Poder do Hábito'"
      ]
     },
     "execution_count": 10,
     "metadata": {},
     "output_type": "execute_result"
    }
   ],
   "source": [
    "Livro2.titulo"
   ]
  },
  {
   "cell_type": "code",
   "execution_count": 11,
   "id": "3e3897b1",
   "metadata": {},
   "outputs": [
    {
     "name": "stdout",
     "output_type": "stream",
     "text": [
      "Este é o livro O Poder do Hábito e ISBN 77886611\n"
     ]
    }
   ],
   "source": [
    "# Método do objeto Livro2\n",
    "Livro2.imprime(\"O Poder do Hábito\", 77886611)"
   ]
  },
  {
   "cell_type": "code",
   "execution_count": 12,
   "id": "92bf55ec",
   "metadata": {},
   "outputs": [],
   "source": [
    "# Criando a classe \n",
    "class Algoritmo():\n",
    "    \n",
    "    def __init__(self, tipo_algo):\n",
    "        self.tipo = tipo_algo\n",
    "        print(\"Construtor chamado para criar um objeto desta classe.\")"
   ]
  },
  {
   "cell_type": "code",
   "execution_count": 13,
   "id": "6a26c5dc",
   "metadata": {},
   "outputs": [
    {
     "name": "stdout",
     "output_type": "stream",
     "text": [
      "Construtor chamado para criar um objeto desta classe.\n"
     ]
    }
   ],
   "source": [
    "# Criando o objeto a partir da primeira classe\n",
    "algo1 = Algoritmo(tipo_algo = 'Random Forest')"
   ]
  },
  {
   "cell_type": "code",
   "execution_count": 14,
   "id": "634de206",
   "metadata": {},
   "outputs": [
    {
     "name": "stdout",
     "output_type": "stream",
     "text": [
      "Construtor chamado para criar um objeto desta classe.\n"
     ]
    }
   ],
   "source": [
    "# Criando o objeto a partir da primeira class\n",
    "algo2 = Algoritmo(tipo_algo = 'Deep Learning')"
   ]
  },
  {
   "cell_type": "code",
   "execution_count": 15,
   "id": "57d6e312",
   "metadata": {},
   "outputs": [
    {
     "data": {
      "text/plain": [
       "'Random Forest'"
      ]
     },
     "execution_count": 15,
     "metadata": {},
     "output_type": "execute_result"
    }
   ],
   "source": [
    "# Atributo da classe\n",
    "algo1.tipo"
   ]
  },
  {
   "cell_type": "code",
   "execution_count": 16,
   "id": "244454ce",
   "metadata": {},
   "outputs": [
    {
     "data": {
      "text/plain": [
       "'Deep Learning'"
      ]
     },
     "execution_count": 16,
     "metadata": {},
     "output_type": "execute_result"
    }
   ],
   "source": [
    "#Atributo da classe\n",
    "algo2.tipo"
   ]
  }
 ],
 "metadata": {
  "kernelspec": {
   "display_name": "Python 3 (ipykernel)",
   "language": "python",
   "name": "python3"
  },
  "language_info": {
   "codemirror_mode": {
    "name": "ipython",
    "version": 3
   },
   "file_extension": ".py",
   "mimetype": "text/x-python",
   "name": "python",
   "nbconvert_exporter": "python",
   "pygments_lexer": "ipython3",
   "version": "3.9.13"
  }
 },
 "nbformat": 4,
 "nbformat_minor": 5
}
